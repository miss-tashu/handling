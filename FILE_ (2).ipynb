{
  "nbformat": 4,
  "nbformat_minor": 0,
  "metadata": {
    "colab": {
      "provenance": []
    },
    "kernelspec": {
      "name": "python3",
      "display_name": "Python 3"
    },
    "language_info": {
      "name": "python"
    }
  },
  "cells": [
    {
      "cell_type": "markdown",
      "source": [
        " 1.Discuss the scenarios where multithreading is preferable to multiprocessing and scenarios where\n",
        "multiprocessing is a better choice"
      ],
      "metadata": {
        "id": "ptkVfXjZvUCW"
      }
    },
    {
      "cell_type": "markdown",
      "source": [
        "Multithreading and multiprocessing are used to achieve concurrent execution in programs, but they are suited to different scenarios due to their unique characteristics.\n",
        "\n",
        "MULTITHREADING:-\n",
        "\n",
        "It is a programme processed which is divided into multiple threads and if you want to use multiple thread to execute a process is called multithreading.\n",
        "\n",
        " since it happens on one processor threads share same memory space and resources such as data,variables,executive programs within the process.\n",
        "\n",
        "it is concurrent(GIL)\n",
        "\n",
        "USE CASE: downloading,managing multiple task on browser.\n",
        "\n",
        "MULTIPROCESSING :-  \n",
        "\n",
        "MULTIPLE CORE/processors are there each process has its own memory space and resources which are isolated for other process.\n",
        "\n",
        "truely parallel are multiple CPU core but NO GIL.\n",
        "\n",
        "USE CASE:- SOME COMPUTATIONS,SERVER HANDLING,MULTIPLE PROCESSING ARE USED.\n",
        "\n",
        "HENCE MULTIPROCESSING IS AN BETTER CHOICE."
      ],
      "metadata": {
        "id": "B3SqQQp8vnh8"
      }
    },
    {
      "cell_type": "markdown",
      "source": [
        "2. Describe what a process pool is and how it helps in managing multiple processes efficiently."
      ],
      "metadata": {
        "id": "lZDfGoRN8JJy"
      }
    },
    {
      "cell_type": "markdown",
      "source": [
        "A process pool is a design pattern that manages a collection of worker processes to execute tasks concurrently. It allows for the efficient management of multiple processes by reusing them instead of creating and destroying processes for each task.\n",
        " 1.IT HAS A FIXED NUMBER OF PROCESSORS.\n",
        "\n",
        "2.IT HAS A TASK QUEUE WHICH IMPROVE RESOURCES.\n",
        "\n",
        "3.IT HAS HIGH LOAD EFFICIENCY\n",
        "\n",
        "4.IT PROCESS POOLS WHICH ENABLES CONCURRENT FOR SPECIFIC PROGRAM IMPROVEMENT\n",
        "5.IT HAS ALSO SCALABILITY"
      ],
      "metadata": {
        "id": "DETz45Cm9BIV"
      }
    },
    {
      "cell_type": "markdown",
      "source": [
        " 3.Explain what multiprocessing is and why it is used in Python programs."
      ],
      "metadata": {
        "id": "b4dYFLSKJfLV"
      }
    },
    {
      "cell_type": "markdown",
      "source": [
        "MULTIPROCESSING IS AN MULTIPLE CORE/processors are there each process has its own memory space and resources which are isolated for other process.IT IS truely parallel are multiple CPU core but NO GIL.Tt is suitable for tasks thar are independent and can run isolation.\n",
        "IT IS USE IN PYTHON PROGRAM SUCH AS SOME COMPUTATIONS,SERVER HANDLING,MULTIPLE PROCESSING ARE USED."
      ],
      "metadata": {
        "id": "7BiXmnjJJowT"
      }
    },
    {
      "cell_type": "markdown",
      "source": [
        "4. Write a Python program using multithreading where one thread adds numbers to a list, and another\n",
        "thread removes numbers from the list. Implement a mechanism to avoid race conditions using\n",
        "threading.Lock."
      ],
      "metadata": {
        "id": "3Uuf5YXpMyXk"
      }
    },
    {
      "cell_type": "code",
      "execution_count": null,
      "metadata": {
        "id": "qPEhje6Uqu9p",
        "colab": {
          "base_uri": "https://localhost:8080/"
        },
        "outputId": "a5b1fdd3-01e4-4913-f6c0-ceaa02f7f695"
      },
      "outputs": [
        {
          "output_type": "stream",
          "name": "stdout",
          "text": [
            "List is empty, nothing to remove.\n",
            "Added: 0, Current List: [0]\n",
            "Removed: 0, Current List: []\n",
            "List is empty, nothing to remove.\n",
            "Added: 1, Current List: [1]\n",
            "Removed: 1, Current List: []\n",
            "Added: 2, Current List: [2]\n",
            "Removed: 2, Current List: []\n",
            "List is empty, nothing to remove.\n",
            "Added: 3, Current List: [3]\n",
            "Added: 4, Current List: [3, 4]\n",
            "Removed: 3, Current List: [4]\n",
            "Added: 5, Current List: [4, 5]\n",
            "Added: 6, Current List: [4, 5, 6]\n",
            "Removed: 4, Current List: [5, 6]\n",
            "Added: 7, Current List: [5, 6, 7]\n",
            "Removed: 5, Current List: [6, 7]\n",
            "Added: 8, Current List: [6, 7, 8]\n",
            "Removed: 6, Current List: [7, 8]\n",
            "Added: 9, Current List: [7, 8, 9]\n",
            "Final List: [7, 8, 9]\n"
          ]
        }
      ],
      "source": [
        "import threading\n",
        "import time\n",
        "import random\n",
        "\n",
        "\n",
        "numbers = []\n",
        "lock = threading.Lock()\n",
        "\n",
        "\n",
        "def add_numbers():\n",
        "    for i in range(10):\n",
        "        time.sleep(random.uniform(0.1, 0.5))\n",
        "        with lock:\n",
        "            numbers.append(i)\n",
        "            print(f\"Added: {i}, Current List: {numbers}\")\n",
        "\n",
        "\n",
        "def remove_numbers():\n",
        "    for _ in range(10):\n",
        "        time.sleep(random.uniform(0.1, 0.5))\n",
        "        with lock:\n",
        "            if numbers:\n",
        "                removed = numbers.pop(0)\n",
        "                print(f\"Removed: {removed}, Current List: {numbers}\")\n",
        "            else:\n",
        "                print(\"List is empty, nothing to remove.\")\n",
        "\n",
        "\n",
        "adder_thread = threading.Thread(target=add_numbers)\n",
        "remover_thread = threading.Thread(target=remove_numbers)\n",
        "\n",
        "\n",
        "adder_thread.start()\n",
        "remover_thread.start()\n",
        "\n",
        "\n",
        "adder_thread.join()\n",
        "remover_thread.join()\n",
        "\n",
        "print(\"Final List:\", numbers)\n"
      ]
    },
    {
      "cell_type": "markdown",
      "source": [
        "5. Describe the methods and tools available in Python for safely sharing data between threads and\n",
        "processes."
      ],
      "metadata": {
        "id": "BFk91XMgvSnP"
      }
    },
    {
      "cell_type": "markdown",
      "source": [
        " The methods and tools available in Python for safely sharing data between threads and processes are:\n",
        "\n",
        " For Threads: Use locks, condition variables, queues, and events to manage shared data safely.\n",
        "\n",
        "For Processes: Use multiprocessing locks, queues, shared memory (Value and Array), and manager objects for safe data sharing."
      ],
      "metadata": {
        "id": "4BBRgKPaUrP8"
      }
    },
    {
      "cell_type": "code",
      "source": [
        "import threading\n",
        "import time\n",
        "\n",
        "start = time.perf_counter()\n",
        "shared_counter = 0\n",
        "counter_lock = threading.Lock()\n",
        "\n",
        "threads = []\n",
        "\n",
        "def increment_shared_counter(x):\n",
        "    global shared_counter\n",
        "    with counter_lock:\n",
        "        shared_counter = shared_counter + 1\n",
        "        print(f\"Thread {x}: Shared Counter Value: {shared_counter}\")\n",
        "\n",
        "for i in range(5):\n",
        "    thread = threading.Thread(target=increment_shared_counter, args=(i,))\n",
        "    threads.append(thread)\n",
        "    thread.start()\n",
        "\n",
        "for thread in threads:\n",
        "    thread.join()\n",
        "\n",
        "end = time.perf_counter()\n",
        "print(f\"Time taken: {end - start}\")"
      ],
      "metadata": {
        "colab": {
          "base_uri": "https://localhost:8080/"
        },
        "id": "hJfltEIj3Lqb",
        "outputId": "7de9aecc-e982-4838-d9af-0276a62f55f3"
      },
      "execution_count": 7,
      "outputs": [
        {
          "output_type": "stream",
          "name": "stdout",
          "text": [
            "Thread 0: Shared Counter Value: 1\n",
            "Thread 1: Shared Counter Value: 2\n",
            "Thread 2: Shared Counter Value: 3\n",
            "Thread 3: Shared Counter Value: 4\n",
            "Thread 4: Shared Counter Value: 5\n",
            "Time taken: 0.009386689999928421\n"
          ]
        }
      ]
    },
    {
      "cell_type": "markdown",
      "source": [
        "6. Discuss why it’s crucial to handle exceptions in concurrent programs and the techniques available for\n",
        "doing so."
      ],
      "metadata": {
        "id": "0mKU2szuXtS9"
      }
    },
    {
      "cell_type": "markdown",
      "source": [
        " It’s crucial to handle exceptions in concurrent programs and the techniques available for doing so because:-\n",
        "1 for program stability\n",
        "\n",
        "2 for error purpose\n",
        "\n",
        "3 for concurrent programs\n",
        "\n",
        "4 for debugging and maintenance\n"
      ],
      "metadata": {
        "id": "FgBECVNUYDZ4"
      }
    },
    {
      "cell_type": "code",
      "source": [
        "import threading\n",
        "\n",
        "def worker():\n",
        "    try:\n",
        "        # Perform some operations\n",
        "        raise ValueError(\"An error occurred\")\n",
        "    except Exception as e:\n",
        "        print(f\"Error in thread {threading.current_thread().name}: {e}\")\n",
        "\n",
        "thread = threading.Thread(target=worker)\n",
        "thread.start()\n",
        "thread.join()\n"
      ],
      "metadata": {
        "colab": {
          "base_uri": "https://localhost:8080/"
        },
        "id": "tse_3aZDWOuP",
        "outputId": "3efafba5-1d8e-4981-a587-280f0b1b9dec"
      },
      "execution_count": null,
      "outputs": [
        {
          "output_type": "stream",
          "name": "stdout",
          "text": [
            "Error in thread Thread-12 (worker): An error occurred\n",
            "Error in thread Thread-13 (worker): An error occurred\n",
            "Error in thread Thread-14 (worker): An error occurred\n"
          ]
        }
      ]
    },
    {
      "cell_type": "code",
      "source": [
        "import logging\n",
        "\n",
        "logging.basicConfig(level=logging.ERROR)\n",
        "\n",
        "def worker():\n",
        "    try:\n",
        "        pass\n",
        "    except Exception as e:\n",
        "        logging.error(f\"Error in thread {threading.current_thread().name}: {e}\")\n",
        "\n"
      ],
      "metadata": {
        "id": "cFrYSus3Yyjk"
      },
      "execution_count": 8,
      "outputs": []
    },
    {
      "cell_type": "code",
      "source": [
        "from concurrent.futures import ThreadPoolExecutor\n",
        "\n",
        "def worker():\n",
        "    raise ValueError(\"An error occurred\")\n",
        "\n",
        "with ThreadPoolExecutor() as executor:\n",
        "    future = executor.submit(worker)\n",
        "    try:\n",
        "        future.result()\n",
        "    except Exception as e:\n",
        "        print(f\"Handled exception: {e}\")\n"
      ],
      "metadata": {
        "colab": {
          "base_uri": "https://localhost:8080/"
        },
        "id": "3BXMV6eAZf22",
        "outputId": "01913d2f-ec4e-4759-b96b-158fbb0366bf"
      },
      "execution_count": 10,
      "outputs": [
        {
          "output_type": "stream",
          "name": "stdout",
          "text": [
            "Handled exception: An error occurred\n"
          ]
        }
      ]
    },
    {
      "cell_type": "markdown",
      "source": [
        "7. Create a program that uses a thread pool to calculate the factorial of numbers from 1 to 10 concurrently.\n",
        "Use concurrent.futures.ThreadPoolExecutor to manage the threads."
      ],
      "metadata": {
        "id": "9Ei6gwirZtH7"
      }
    },
    {
      "cell_type": "code",
      "source": [
        "import concurrent.futures\n",
        "import math\n",
        "\n",
        "\n",
        "def calculate_factorial(n):\n",
        "    return math.factorial(n)\n",
        "\n",
        "\n",
        "def main():\n",
        "    numbers = range(1, 11)\n",
        "\n",
        "\n",
        "    with concurrent.futures.ThreadPoolExecutor() as executor:\n",
        "\n",
        "        results = executor.map(calculate_factorial, numbers)\n",
        "\n",
        "\n",
        "    for number, factorial in zip(numbers, results):\n",
        "        print(f\"The factorial of {number} is {factorial}\")\n",
        "\n",
        "if __name__ == \"__main__\":\n",
        "    main()\n"
      ],
      "metadata": {
        "colab": {
          "base_uri": "https://localhost:8080/"
        },
        "id": "WoD1KhwlaH7V",
        "outputId": "06e0f518-5af9-40e2-8496-33b9d1c9f0a0"
      },
      "execution_count": null,
      "outputs": [
        {
          "output_type": "stream",
          "name": "stdout",
          "text": [
            "The factorial of 1 is 1\n",
            "The factorial of 2 is 2\n",
            "The factorial of 3 is 6\n",
            "The factorial of 4 is 24\n",
            "The factorial of 5 is 120\n",
            "The factorial of 6 is 720\n",
            "The factorial of 7 is 5040\n",
            "The factorial of 8 is 40320\n",
            "The factorial of 9 is 362880\n",
            "The factorial of 10 is 3628800\n"
          ]
        }
      ]
    },
    {
      "cell_type": "markdown",
      "source": [
        "8. Create a Python program that uses multiprocessing.Pool to compute the square of numbers from 1 to 10 in\n",
        "parallel. Measure the time taken to perform this computation using a pool of different sizes (e.g., 2, 4, 8\n",
        "processes)."
      ],
      "metadata": {
        "id": "w3GAqDXEZ6ko"
      }
    },
    {
      "cell_type": "code",
      "source": [
        "import multiprocessing\n",
        "import time\n",
        "\n",
        "def square(n):\n",
        "    return n * n\n",
        "\n",
        "def main():\n",
        "    numbers = list(range(1, 11))\n",
        "\n",
        "\n",
        "    pool_sizes = [2, 4, 8]\n",
        "\n",
        "    for size in pool_sizes:\n",
        "\n",
        "        with multiprocessing.Pool(processes=size) as pool:\n",
        "            start_time = time.time()\n",
        "            results = pool.map(square, numbers)\n",
        "            end_time = time.time()\n",
        "\n",
        "        print(f\"Results with pool size {size}: {results}\")\n",
        "        print(f\"Time taken: {end_time- start_time:.4f} seconds\\n\")\n",
        "\n",
        "if __name__ == \"__main__\":\n",
        "    main()"
      ],
      "metadata": {
        "id": "-ltDuvCUaUq9",
        "colab": {
          "base_uri": "https://localhost:8080/"
        },
        "outputId": "3ebe828d-cc3f-4d3b-ef51-b5e44c522eae"
      },
      "execution_count": 12,
      "outputs": [
        {
          "output_type": "stream",
          "name": "stdout",
          "text": [
            "Results with pool size 2: [1, 4, 9, 16, 25, 36, 49, 64, 81, 100]\n",
            "Time taken: 0.0037 seconds\n",
            "\n",
            "Results with pool size 4: [1, 4, 9, 16, 25, 36, 49, 64, 81, 100]\n",
            "Time taken: 0.0028 seconds\n",
            "\n",
            "Results with pool size 8: [1, 4, 9, 16, 25, 36, 49, 64, 81, 100]\n",
            "Time taken: 0.0023 seconds\n",
            "\n"
          ]
        }
      ]
    },
    {
      "cell_type": "code",
      "source": [],
      "metadata": {
        "id": "ifMzwBOS5r86"
      },
      "execution_count": null,
      "outputs": []
    }
  ]
}